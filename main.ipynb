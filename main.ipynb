{
 "cells": [
  {
   "cell_type": "code",
   "execution_count": 1,
   "metadata": {},
   "outputs": [
    {
     "name": "stdout",
     "output_type": "stream",
     "text": [
      "Loaded encoder \"encoder.pt\" trained to step 1564501\n",
      "Synthesizer using device: cpu\n",
      "Building Wave-RNN\n",
      "Trainable Parameters: 4.481M\n",
      "Loading model weights at /Users/duy/Master/Voice Conversion/Code/knn-vc/weights/vocoder.pt\n"
     ]
    }
   ],
   "source": [
    "from voice_cloning.inference import synthesis_voice"
   ]
  },
  {
   "cell_type": "code",
   "execution_count": 2,
   "metadata": {},
   "outputs": [
    {
     "ename": "TypeError",
     "evalue": "melspectrogram() takes 0 positional arguments but 2 positional arguments (and 2 keyword-only arguments) were given",
     "output_type": "error",
     "traceback": [
      "\u001b[0;31m---------------------------------------------------------------------------\u001b[0m",
      "\u001b[0;31mTypeError\u001b[0m                                 Traceback (most recent call last)",
      "\u001b[1;32m/Users/duy/Master/Voice Conversion/Code/knn-vc/main.ipynb Cell 2\u001b[0m line \u001b[0;36m1\n\u001b[0;32m----> <a href='vscode-notebook-cell:/Users/duy/Master/Voice%20Conversion/Code/knn-vc/main.ipynb#W1sZmlsZQ%3D%3D?line=0'>1</a>\u001b[0m synthesis_voice(\u001b[39m\"\u001b[39;49m\u001b[39maudio.wav\u001b[39;49m\u001b[39m\"\u001b[39;49m, \u001b[39m16000\u001b[39;49m, \u001b[39m\"\u001b[39;49m\u001b[39mI SAW A FEW SHEEP WITH ROUNDED NOSES AND ENORMOUS TAILS\u001b[39;49m\u001b[39m\"\u001b[39;49m)\n",
      "File \u001b[0;32m~/Master/Voice Conversion/Code/knn-vc/voice_cloning/inference.py:28\u001b[0m, in \u001b[0;36msynthesis_voice\u001b[0;34m(wave, sampling_rate, content)\u001b[0m\n\u001b[1;32m     26\u001b[0m \u001b[39mif\u001b[39;00m \u001b[39misinstance\u001b[39m(wave, np\u001b[39m.\u001b[39mndarray):\n\u001b[1;32m     27\u001b[0m     preprocessed_wav \u001b[39m=\u001b[39m encoder\u001b[39m.\u001b[39mpreprocess_wav(wave, sampling_rate)\n\u001b[0;32m---> 28\u001b[0m embed \u001b[39m=\u001b[39m encoder\u001b[39m.\u001b[39;49membed_utterance(preprocessed_wav)\n\u001b[1;32m     30\u001b[0m texts \u001b[39m=\u001b[39m [content]\n\u001b[1;32m     31\u001b[0m embeds \u001b[39m=\u001b[39m [embed]\n",
      "File \u001b[0;32m~/Master/Voice Conversion/Code/knn-vc/voice_cloning/encoder/inference.py:144\u001b[0m, in \u001b[0;36membed_utterance\u001b[0;34m(wav, using_partials, return_partials, **kwargs)\u001b[0m\n\u001b[1;32m    141\u001b[0m     wav \u001b[39m=\u001b[39m np\u001b[39m.\u001b[39mpad(wav, (\u001b[39m0\u001b[39m, max_wave_length \u001b[39m-\u001b[39m \u001b[39mlen\u001b[39m(wav)), \u001b[39m\"\u001b[39m\u001b[39mconstant\u001b[39m\u001b[39m\"\u001b[39m)\n\u001b[1;32m    143\u001b[0m \u001b[39m# Split the utterance into partials\u001b[39;00m\n\u001b[0;32m--> 144\u001b[0m frames \u001b[39m=\u001b[39m audio\u001b[39m.\u001b[39;49mwav_to_mel_spectrogram(wav)\n\u001b[1;32m    145\u001b[0m frames_batch \u001b[39m=\u001b[39m np\u001b[39m.\u001b[39marray([frames[s] \u001b[39mfor\u001b[39;00m s \u001b[39min\u001b[39;00m mel_slices])\n\u001b[1;32m    146\u001b[0m partial_embeds \u001b[39m=\u001b[39m embed_frames_batch(frames_batch)\n",
      "File \u001b[0;32m~/Master/Voice Conversion/Code/knn-vc/voice_cloning/encoder/audio.py:58\u001b[0m, in \u001b[0;36mwav_to_mel_spectrogram\u001b[0;34m(wav)\u001b[0m\n\u001b[1;32m     53\u001b[0m \u001b[39mdef\u001b[39;00m \u001b[39mwav_to_mel_spectrogram\u001b[39m(wav):\n\u001b[1;32m     54\u001b[0m \u001b[39m    \u001b[39m\u001b[39m\"\"\"\u001b[39;00m\n\u001b[1;32m     55\u001b[0m \u001b[39m    Derives a mel spectrogram ready to be used by the encoder from a preprocessed audio waveform.\u001b[39;00m\n\u001b[1;32m     56\u001b[0m \u001b[39m    Note: this not a log-mel spectrogram.\u001b[39;00m\n\u001b[1;32m     57\u001b[0m \u001b[39m    \"\"\"\u001b[39;00m\n\u001b[0;32m---> 58\u001b[0m     frames \u001b[39m=\u001b[39m librosa\u001b[39m.\u001b[39;49mfeature\u001b[39m.\u001b[39;49mmelspectrogram(\n\u001b[1;32m     59\u001b[0m         wav,\n\u001b[1;32m     60\u001b[0m         sampling_rate,\n\u001b[1;32m     61\u001b[0m         n_fft\u001b[39m=\u001b[39;49m\u001b[39mint\u001b[39;49m(sampling_rate \u001b[39m*\u001b[39;49m mel_window_length \u001b[39m/\u001b[39;49m \u001b[39m1000\u001b[39;49m),\n\u001b[1;32m     62\u001b[0m         hop_length\u001b[39m=\u001b[39;49m\u001b[39mint\u001b[39;49m(sampling_rate \u001b[39m*\u001b[39;49m mel_window_step \u001b[39m/\u001b[39;49m \u001b[39m1000\u001b[39;49m),\n\u001b[1;32m     63\u001b[0m         n_mels\u001b[39m=\u001b[39;49mmel_n_channels\n\u001b[1;32m     64\u001b[0m     )\n\u001b[1;32m     65\u001b[0m     \u001b[39mreturn\u001b[39;00m frames\u001b[39m.\u001b[39mastype(np\u001b[39m.\u001b[39mfloat32)\u001b[39m.\u001b[39mT\n",
      "\u001b[0;31mTypeError\u001b[0m: melspectrogram() takes 0 positional arguments but 2 positional arguments (and 2 keyword-only arguments) were given"
     ]
    }
   ],
   "source": [
    "synthesis_voice(\"audio.wav\", 16000, \"I SAW A FEW SHEEP WITH ROUNDED NOSES AND ENORMOUS TAILS\")"
   ]
  },
  {
   "cell_type": "code",
   "execution_count": null,
   "metadata": {},
   "outputs": [],
   "source": []
  }
 ],
 "metadata": {
  "kernelspec": {
   "display_name": "Python 3",
   "language": "python",
   "name": "python3"
  },
  "language_info": {
   "codemirror_mode": {
    "name": "ipython",
    "version": 3
   },
   "file_extension": ".py",
   "mimetype": "text/x-python",
   "name": "python",
   "nbconvert_exporter": "python",
   "pygments_lexer": "ipython3",
   "version": "3.11.4"
  }
 },
 "nbformat": 4,
 "nbformat_minor": 2
}
